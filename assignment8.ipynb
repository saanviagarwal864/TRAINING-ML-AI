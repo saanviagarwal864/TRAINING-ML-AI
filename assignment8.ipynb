{
 "cells": [
  {
   "cell_type": "code",
   "execution_count": 12,
   "metadata": {},
   "outputs": [
    {
     "name": "stdout",
     "output_type": "stream",
     "text": [
      "[[34 16 27 44 33]\n",
      " [19 20 58 16 20]\n",
      " [17 25  9 39 19]\n",
      " [23 11  4 11 28]\n",
      " [24 32 11 35 31]\n",
      " [15 11 33 48 29]\n",
      " [46 52  2 53 42]\n",
      " [57 16 22 28 45]\n",
      " [19  7 23 43 40]\n",
      " [43 40  7 13 37]\n",
      " [58  5  3  6 44]\n",
      " [15  4  6  4 51]]\n",
      "In last row: [15  4  6  4 51]\n",
      "Minimum ---> 4\n",
      "Maximum --> 51\n",
      "Average ---> 16.0\n",
      "No. of even numbers: 3\n"
     ]
    }
   ],
   "source": [
    "#QUESTION 1\n",
    "\n",
    "import numpy as n\n",
    "arr = n.random.randint(1,60,60)\n",
    "arr2=arr.reshape(12,5)\n",
    "print(arr2)\n",
    "def last_row(row):\n",
    "     print('Minimum --->',row.min())\n",
    "     print('Maximum -->',row.max())\n",
    "     print('Average --->',row.mean())\n",
    "     count =0\n",
    "     for i in row:\n",
    "        if (i%2==0):\n",
    "            count+=1\n",
    "     print('No. of even numbers:',count)\n",
    "\n",
    "row=arr2[11]  \n",
    "       \n",
    "print('In last row:',row)   \n",
    "last_row(row)\n",
    "            \n",
    "\n",
    "     "
   ]
  },
  {
   "cell_type": "code",
   "execution_count": 17,
   "metadata": {},
   "outputs": [
    {
     "name": "stdout",
     "output_type": "stream",
     "text": [
      "[[1 2 3]\n",
      " [5 7 2]\n",
      " [5 9 8]]\n",
      "After slicing:\n",
      "[[3 2 1]\n",
      " [2 7 5]\n",
      " [8 9 5]]\n"
     ]
    }
   ],
   "source": [
    "#QUESTION 2\n",
    "\n",
    "import numpy as n\n",
    "arr=n.array([[1,2,3],[5,7,2],[5,9,8]])\n",
    "print(arr)\n",
    "print('After slicing:')\n",
    "print(arr[0:,-1:-4:-1])\n"
   ]
  }
 ],
 "metadata": {
  "kernelspec": {
   "display_name": "Python 3",
   "language": "python",
   "name": "python3"
  },
  "language_info": {
   "codemirror_mode": {
    "name": "ipython",
    "version": 3
   },
   "file_extension": ".py",
   "mimetype": "text/x-python",
   "name": "python",
   "nbconvert_exporter": "python",
   "pygments_lexer": "ipython3",
   "version": "3.11.5"
  }
 },
 "nbformat": 4,
 "nbformat_minor": 2
}
