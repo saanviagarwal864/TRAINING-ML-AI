{
 "cells": [
  {
   "cell_type": "code",
   "execution_count": 5,
   "metadata": {},
   "outputs": [
    {
     "name": "stdout",
     "output_type": "stream",
     "text": [
      "True\n"
     ]
    }
   ],
   "source": [
    "#question 1\n",
    "def is_palindrome(string):\n",
    "    string=string.lower()\n",
    "\n",
    "    for i in range(len(string)):\n",
    "        if string[i] == string[-(i+1)]:\n",
    "            return True\n",
    "        else:\n",
    "            return False\n",
    "\n",
    "st = input(\"enter the string :\")\n",
    "output = is_palindrome(string = st)\n",
    "print(output)\n",
    "\n",
    "\n",
    "\n",
    "          \n",
    "\n",
    "    "
   ]
  },
  {
   "cell_type": "code",
   "execution_count": 12,
   "metadata": {},
   "outputs": [
    {
     "name": "stdout",
     "output_type": "stream",
     "text": [
      "7.0\n"
     ]
    }
   ],
   "source": [
    "#question 2\n",
    "def calculator(float,string):\n",
    "    if operation == \"add\":\n",
    "     add = num1 + num2\n",
    "     return add\n",
    "    elif operation == \"subtract\":\n",
    "     subtract = num1-num2\n",
    "     return subtract\n",
    "    elif operation == \"multiply\":\n",
    "     multiply = num1 * num2\n",
    "     return multiply\n",
    "    elif operation == \"divide\":\n",
    "     divide = num1 / num2\n",
    "     return divide\n",
    "\n",
    "num1 = float(input('enter the first number:'))\n",
    "num2 = float(input(\"enter the second number:\"))\n",
    "operation = input(\"enter the operation :\")\n",
    "output = calculator(num1,num2)\n",
    "print(output)\n",
    "\n",
    "\n"
   ]
  },
  {
   "cell_type": "code",
   "execution_count": 9,
   "metadata": {},
   "outputs": [
    {
     "name": "stdout",
     "output_type": "stream",
     "text": [
      "s --> 1\n",
      "a --> 2\n",
      "a --> 2\n",
      "n --> 1\n",
      "v --> 1\n",
      "i --> 1\n"
     ]
    }
   ],
   "source": [
    "   #question 3             \n",
    "def word_counter(s):\n",
    "    count = 1\n",
    "    for i in s:\n",
    "        print(i,'-->',s.count(i))\n",
    "        \n",
    "string=input(\"enter a string :\")\n",
    "word_counter(string)\n",
    "              "
   ]
  },
  {
   "cell_type": "code",
   "execution_count": 2,
   "metadata": {},
   "outputs": [
    {
     "name": "stdout",
     "output_type": "stream",
     "text": [
      "*\n",
      "**\n",
      "***\n",
      "****\n",
      "*****\n"
     ]
    }
   ],
   "source": [
    "#question 4\n",
    "def right_triangle(n):\n",
    "     for i in range(0,n):\n",
    "          for j in range(0,i+1):\n",
    "               print(\"*\",end=\"\")\n",
    "          print()\n",
    "num=int(input(\"enter the number:\"))\n",
    "right_triangle(num)"
   ]
  },
  {
   "cell_type": "code",
   "execution_count": 3,
   "metadata": {},
   "outputs": [
    {
     "name": "stdout",
     "output_type": "stream",
     "text": [
      "3 x 1 = 3\n",
      "3 x 2 = 6\n",
      "3 x 3 = 9\n",
      "3 x 4 = 12\n",
      "3 x 5 = 15\n",
      "3 x 6 = 18\n",
      "3 x 7 = 21\n",
      "3 x 8 = 24\n",
      "3 x 9 = 27\n",
      "3 x 10 = 30\n"
     ]
    }
   ],
   "source": [
    "#question 4\n",
    "def multiplication_table(n):\n",
    "    for i in range(1,11):\n",
    "        print(n,\"x\",i,\"=\",n*i)\n",
    "num=int(input(\"enter the number :\"))\n",
    "multiplication_table(num)"
   ]
  }
 ],
 "metadata": {
  "kernelspec": {
   "display_name": "Python 3",
   "language": "python",
   "name": "python3"
  },
  "language_info": {
   "codemirror_mode": {
    "name": "ipython",
    "version": 3
   },
   "file_extension": ".py",
   "mimetype": "text/x-python",
   "name": "python",
   "nbconvert_exporter": "python",
   "pygments_lexer": "ipython3",
   "version": "3.11.5"
  }
 },
 "nbformat": 4,
 "nbformat_minor": 2
}
