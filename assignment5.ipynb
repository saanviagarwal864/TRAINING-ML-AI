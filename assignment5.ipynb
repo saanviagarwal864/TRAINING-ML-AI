{
 "cells": [
  {
   "cell_type": "code",
   "execution_count": 9,
   "metadata": {},
   "outputs": [
    {
     "name": "stdout",
     "output_type": "stream",
     "text": [
      "Radius of circle: 4.5\n",
      "The area of the circle is: 63.585\n"
     ]
    }
   ],
   "source": [
    " #QUESTION 1\n",
    "class calculate_area:\n",
    "    def area(rad):\n",
    "        area = 3.14*(rad*rad)\n",
    "        return area\n",
    "a = calculate_area\n",
    "n=float(input(\"enter the radius:\"))\n",
    "ar=a.area(n)\n",
    "print('Radius of circle:',n)\n",
    "print('The area of the circle is:',ar)\n",
    "               "
   ]
  },
  {
   "cell_type": "code",
   "execution_count": 11,
   "metadata": {},
   "outputs": [
    {
     "name": "stdout",
     "output_type": "stream",
     "text": [
      "Original price: 5500.0\n",
      "Discount percentage: 40.0\n",
      "Final price after discount: 3300.0\n"
     ]
    }
   ],
   "source": [
    "#QUESTION 2\n",
    "class calculate_discount:\n",
    "    def discount(org,discount):\n",
    "        final=org - (org/100)*discount\n",
    "        return final\n",
    "a = calculate_discount\n",
    "n = float (input(\"enter the org price:\"))\n",
    "m = float (input(\"enter the discount percentage:\"))\n",
    "ar = a.discount(n,m)\n",
    "print('Original price:',n)\n",
    "print('Discount percentage:',m)\n",
    "print ('Final price after discount:',ar)\n"
   ]
  },
  {
   "cell_type": "code",
   "execution_count": 13,
   "metadata": {},
   "outputs": [
    {
     "name": "stdout",
     "output_type": "stream",
     "text": [
      "Word: assignment\n",
      "Number of total vowels in the word are: 3\n"
     ]
    }
   ],
   "source": [
    "#QUESTION 3\n",
    "class count_vowels:\n",
    "    def count(name):\n",
    "        check = \"aeiouAEIOU\"  \n",
    "        vowel_count = 0\n",
    "        for char in name:\n",
    "            if char in check:\n",
    "                vowel_count += 1  \n",
    "        \n",
    "        return vowel_count\n",
    "a= count_vowels\n",
    "name = input(\"enter the string:\")\n",
    "ar=a.count(name)\n",
    "print('Word:',name)\n",
    "print('Number of total vowels in the word are:',ar)"
   ]
  }
 ],
 "metadata": {
  "kernelspec": {
   "display_name": "Python 3",
   "language": "python",
   "name": "python3"
  },
  "language_info": {
   "codemirror_mode": {
    "name": "ipython",
    "version": 3
   },
   "file_extension": ".py",
   "mimetype": "text/x-python",
   "name": "python",
   "nbconvert_exporter": "python",
   "pygments_lexer": "ipython3",
   "version": "3.11.5"
  }
 },
 "nbformat": 4,
 "nbformat_minor": 2
}
