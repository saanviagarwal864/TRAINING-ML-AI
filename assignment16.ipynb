{
 "cells": [
  {
   "cell_type": "code",
   "execution_count": 7,
   "metadata": {},
   "outputs": [
    {
     "name": "stdout",
     "output_type": "stream",
     "text": [
      "This is a red apple\n",
      "The apple tastes delicious!\n",
      "The color of the fruit is red\n"
     ]
    }
   ],
   "source": [
    "#QUESTION 1\n",
    "\n",
    "#MULTIPLE INHERITANCE\n",
    "# Parent class\n",
    "class Fruit:\n",
    "    def __init__(self, name):\n",
    "        self.name = name\n",
    "\n",
    "    def taste(self):\n",
    "        return f\"The {self.name} tastes delicious!\"\n",
    "\n",
    "# Parent class\n",
    "class Color:\n",
    "    def __init__(self, color):\n",
    "        self.color = color\n",
    "\n",
    "    def show_color(self):\n",
    "        return f\"The color of the fruit is {self.color}\"\n",
    "\n",
    "# Child class inheriting from both Fruit and Color\n",
    "class Apple(Fruit, Color):\n",
    "    def __init__(self, name, color):\n",
    "        Fruit.__init__(self, name)\n",
    "        Color.__init__(self, color)\n",
    "\n",
    "    def info(self):\n",
    "        return f\"This is a {self.color} {self.name}\"\n",
    "\n",
    "# Creating instance\n",
    "apple = Apple(\"apple\", \"red\")\n",
    "\n",
    "# Calling methods\n",
    "print(apple.info())        \n",
    "print(apple.taste())      \n",
    "print(apple.show_color())\n"
   ]
  },
  {
   "cell_type": "code",
   "execution_count": 9,
   "metadata": {},
   "outputs": [
    {
     "name": "stdout",
     "output_type": "stream",
     "text": [
      "Some sound\n",
      "Woof!\n",
      "Woof Woof!\n"
     ]
    }
   ],
   "source": [
    "#MULTILEVEL INHERITANCE\n",
    "\n",
    "class Animal:\n",
    "    def speak(self):\n",
    "        return \"Some sound\"\n",
    "\n",
    "class Dog(Animal):\n",
    "    def speak(self):\n",
    "        return \"Woof!\"\n",
    "\n",
    "class GermanShepherd(Dog):\n",
    "    def speak(self):\n",
    "        return \"Woof Woof!\"\n",
    "\n",
    "# Creating instances\n",
    "animal = Animal()\n",
    "dog = Dog()\n",
    "german_shepherd = GermanShepherd()\n",
    "\n",
    "# Calling methods\n",
    "print(animal.speak())           \n",
    "print(dog.speak())              \n",
    "print(german_shepherd.speak())\n"
   ]
  },
  {
   "cell_type": "code",
   "execution_count": 17,
   "metadata": {},
   "outputs": [
    {
     "name": "stdout",
     "output_type": "stream",
     "text": [
      "Precision: 0.6521739130434783\n",
      "Recall: 0.625\n"
     ]
    }
   ],
   "source": [
    "#QUESTION 2\n",
    "\n",
    "from sklearn.metrics import confusion_matrix\n",
    "\n",
    "def calculate_precision_recall(matrix):\n",
    "    # Calculate precision\n",
    "    #precision formula\n",
    "    #(tp)/(tp+fp)\n",
    "    #[tp(1,1)   fp(0,1)\n",
    "    # fn(1,0)  tn(0,0) ]\n",
    "    precision = matrix[0][0] /(matrix[0][0] + matrix[0][1])\n",
    "    \n",
    "    # Calculate recall\n",
    "    #recall formula\n",
    "    #(tp)/(tp+fn)\n",
    "    recall =matrix[0][0]/(matrix[0][0] +matrix[1][0])\n",
    "\n",
    "    return precision, recall\n",
    "\n",
    "# Example usage:\n",
    "matrix = [[15,8],\n",
    "          [9,10]]\n",
    "         \n",
    "\n",
    "precision,recall= calculate_precision_recall(matrix)\n",
    "\n",
    "print(\"Precision:\", precision)\n",
    "print(\"Recall:\", recall)\n"
   ]
  },
  {
   "cell_type": "code",
   "execution_count": 5,
   "metadata": {},
   "outputs": [
    {
     "name": "stdout",
     "output_type": "stream",
     "text": [
      "[[1 1]\n",
      " [2 1]]\n"
     ]
    }
   ],
   "source": [
    "#QUESTION 3\n",
    "\n",
    "# Actual prediction\n",
    "#   0        0\n",
    "#   1        1\n",
    "#   0        1\n",
    "#   1        0\n",
    "#   1        0\n",
    "\n",
    "from sklearn.metrics import confusion_matrix\n",
    "Actual=[0,1,0,1,1]\n",
    "Prediction =[0,1,1,0,0]\n",
    "\n",
    "\n",
    "\n",
    "print(confusion_matrix(Actual,Prediction) )\n",
    " #[tp(1,1)   fp(0,1)\n",
    " # fn(1,0)  tn(0,0) ]\n",
    "\n",
    "#TP = 1, FP = 1, FN = 2, TN = 1\n",
    "\n",
    "##accuracy formula\n",
    "#(tp +tn)/(tp+np+tn+fn)\n",
    "#accuracy = (1+1)/(1+1+2+1) = 0.4\n",
    "\n",
    "\n",
    "#precision formula\n",
    "#(tp)/(tp+fp)\n",
    "#precision=(1)/1+1 =0.5\n",
    "\n",
    "\n",
    "##recall formula\n",
    "#(tp)/(tp+fn)\n",
    "#recall = (1)/(1+2) = 0.33\n",
    "\n",
    "\n",
    "#f1 score formula\n",
    "#(2*precision*recall)/(presicion+recall)\n",
    "#f1_score =(2*(1/2)*(1/3))/((1/2)+(1/3)) =0.4\n",
    "\n",
    "                                                                            \n"
   ]
  }
 ],
 "metadata": {
  "kernelspec": {
   "display_name": "Python 3",
   "language": "python",
   "name": "python3"
  },
  "language_info": {
   "codemirror_mode": {
    "name": "ipython",
    "version": 3
   },
   "file_extension": ".py",
   "mimetype": "text/x-python",
   "name": "python",
   "nbconvert_exporter": "python",
   "pygments_lexer": "ipython3",
   "version": "3.11.5"
  }
 },
 "nbformat": 4,
 "nbformat_minor": 2
}
