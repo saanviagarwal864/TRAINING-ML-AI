{
 "cells": [
  {
   "cell_type": "code",
   "execution_count": 1,
   "metadata": {},
   "outputs": [
    {
     "name": "stdout",
     "output_type": "stream",
     "text": [
      "[[0.19136785 0.13317992 0.63341148 0.76756574 0.69197747]\n",
      " [0.80646419 0.9242672  0.74256346 0.47310741 0.66436091]\n",
      " [0.24902349 0.70843258 0.83762365 0.25809092 0.66927988]\n",
      " [0.04342415 0.97170975 0.8261931  0.68245629 0.52924003]\n",
      " [0.40475843 0.05250621 0.28217344 0.14347956 0.41472991]\n",
      " [0.48377228 0.59621882 0.0310784  0.92962508 0.83177761]\n",
      " [0.52367019 0.0257822  0.76029392 0.05611136 0.37817876]\n",
      " [0.44698902 0.32797644 0.68912959 0.7415884  0.68499537]\n",
      " [0.060827   0.56290239 0.096074   0.98076717 0.66765307]\n",
      " [0.76225555 0.6326804  0.70623003 0.97461115 0.89293007]\n",
      " [0.1394973  0.848308   0.65023731 0.67898965 0.74074022]\n",
      " [0.62185463 0.68544326 0.20088695 0.23983904 0.89069245]]\n",
      "The last row of the array is: [[0.62185463 0.68544326 0.20088695 0.23983904 0.89069245]]\n",
      "After updating the last row array becomes:\n",
      "[[0.19136785 0.13317992 0.63341148 0.76756574 0.69197747]\n",
      " [0.80646419 0.9242672  0.74256346 0.47310741 0.66436091]\n",
      " [0.24902349 0.70843258 0.83762365 0.25809092 0.66927988]\n",
      " [0.04342415 0.97170975 0.8261931  0.68245629 0.52924003]\n",
      " [0.40475843 0.05250621 0.28217344 0.14347956 0.41472991]\n",
      " [0.48377228 0.59621882 0.0310784  0.92962508 0.83177761]\n",
      " [0.52367019 0.0257822  0.76029392 0.05611136 0.37817876]\n",
      " [0.44698902 0.32797644 0.68912959 0.7415884  0.68499537]\n",
      " [0.060827   0.56290239 0.096074   0.98076717 0.66765307]\n",
      " [0.76225555 0.6326804  0.70623003 0.97461115 0.89293007]\n",
      " [0.1394973  0.848308   0.65023731 0.67898965 0.74074022]\n",
      " [1.78       2.56       3.333      4.43       5.8796    ]]\n"
     ]
    }
   ],
   "source": [
    "#QUESTION 1\n",
    "import numpy as n\n",
    "arr =n.random.random((12,5))\n",
    "print(arr)\n",
    "print('The last row of the array is:',arr[11:12])\n",
    "arr[11]=[1.78,2.56,3.333,4.43,5.8796]\n",
    "print('After updating the last row array becomes:')\n",
    "print(arr)\n",
    "\n"
   ]
  },
  {
   "cell_type": "code",
   "execution_count": 29,
   "metadata": {},
   "outputs": [
    {
     "name": "stdout",
     "output_type": "stream",
     "text": [
      "[25 38 21  6 28 12 51 53  5 47  6 20 33 10 32 30 37 22 15 40 11 25 25 20\n",
      " 55 43 48 11 58 50 40 37 29 40  3 45 50 43 45 30 49 18 29 46  5 17 22 53\n",
      " 38 19 35 40 19 42  4 16 51 56 40 44]\n",
      "[[25 38 21  6 28]\n",
      " [12 51 53  5 47]\n",
      " [ 6 20 33 10 32]\n",
      " [30 37 22 15 40]\n",
      " [11 25 25 20 55]\n",
      " [43 48 11 58 50]\n",
      " [40 37 29 40  3]\n",
      " [45 50 43 45 30]\n",
      " [49 18 29 46  5]\n",
      " [17 22 53 38 19]\n",
      " [35 40 19 42  4]\n",
      " [16 51 56 40 44]]\n",
      "The maximun value in row  0 : 38\n",
      "The minimum value in row  0 : 6\n",
      "The maximun value in row  1 : 53\n",
      "The minimum value in row  1 : 5\n",
      "The maximun value in row  2 : 33\n",
      "The minimum value in row  2 : 6\n",
      "The maximun value in row  3 : 40\n",
      "The minimum value in row  3 : 15\n",
      "The maximun value in row  4 : 55\n",
      "The minimum value in row  4 : 11\n",
      "The maximun value in row  5 : 58\n",
      "The minimum value in row  5 : 11\n",
      "The maximun value in row  6 : 40\n",
      "The minimum value in row  6 : 3\n",
      "The maximun value in row  7 : 50\n",
      "The minimum value in row  7 : 30\n",
      "The maximun value in row  8 : 49\n",
      "The minimum value in row  8 : 5\n",
      "The maximun value in row  9 : 53\n",
      "The minimum value in row  9 : 17\n",
      "The maximun value in row  10 : 42\n",
      "The minimum value in row  10 : 4\n",
      "The maximun value in row  11 : 56\n",
      "The minimum value in row  11 : 16\n"
     ]
    }
   ],
   "source": [
    "#QUESTION 2\n",
    "arr2 = n.random.randint(1,60,60)\n",
    "print(arr2)\n",
    "arr3=arr2.reshape(12,5)\n",
    "print(arr3)\n",
    "i =0\n",
    "for row in arr3:\n",
    "    print('The maximun value in row ',i,':',max(row))\n",
    "    print('The minimum value in row ',i,':',min(row))\n",
    "    i+=1"
   ]
  }
 ],
 "metadata": {
  "kernelspec": {
   "display_name": "Python 3",
   "language": "python",
   "name": "python3"
  },
  "language_info": {
   "codemirror_mode": {
    "name": "ipython",
    "version": 3
   },
   "file_extension": ".py",
   "mimetype": "text/x-python",
   "name": "python",
   "nbconvert_exporter": "python",
   "pygments_lexer": "ipython3",
   "version": "3.11.5"
  }
 },
 "nbformat": 4,
 "nbformat_minor": 2
}
