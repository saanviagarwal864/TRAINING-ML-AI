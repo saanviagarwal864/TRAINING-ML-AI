{
 "cells": [
  {
   "cell_type": "code",
   "execution_count": 7,
   "metadata": {},
   "outputs": [],
   "source": [
    "import os"
   ]
  },
  {
   "cell_type": "code",
   "execution_count": 17,
   "metadata": {},
   "outputs": [],
   "source": [
    "os.mkdir('JECRC')"
   ]
  },
  {
   "cell_type": "code",
   "execution_count": null,
   "metadata": {},
   "outputs": [
    {
     "name": "stdout",
     "output_type": "stream",
     "text": [
      "C:\\Users\\agarw\\OneDrive\\Desktop\\ml ai\\JECRC\n"
     ]
    },
    {
     "data": {
      "text/plain": [
       "<_io.TextIOWrapper name='pdf6.pdf' mode='x' encoding='cp1252'>"
      ]
     },
     "execution_count": 6,
     "metadata": {},
     "output_type": "execute_result"
    }
   ],
   "source": [
    "os.makedirs(\"JECRC\", exist_ok=True)  #make directory if already exist then also make\n",
    "path_var = r\"C:\\Users\\agarw\\OneDrive\\Desktop\\ml ai\\JECRC \"\n",
    "os.chdir(path_var)\n",
    "print(os.getcwd())\n",
    "\n",
    "open('text1.txt','x')\n",
    "open('text2.txt','x')\n",
    "open('text3.txt','x')\n",
    "open('text4.txt','x')\n",
    "open('text5.txt','x')\n",
    "open('text6.txt','x')\n",
    "open('text7.txt','x')\n",
    "open('text8.txt','x')\n",
    "open('text9.txt','x')\n",
    "open('img1.jpg','x')\n",
    "open('img2.jpg','x')\n",
    "open('img3.jpg','x')\n",
    "open('img4.jpg','x')\n",
    "open('img5.jpg','x')\n",
    "open('img6.jpg','x')\n",
    "open('img7.jpg','x')\n",
    "open('pdf1.pdf','x')\n",
    "open('pdf2.pdf','x')\n",
    "open('pdf3.pdf','x')\n",
    "open('pdf4.pdf','x')\n",
    "open('pdf5.pdf','x')\n",
    "open('pdf6.pdf','x')\n"
   ]
  },
  {
   "cell_type": "code",
   "execution_count": null,
   "metadata": {},
   "outputs": [
    {
     "data": {
      "text/plain": [
       "'C:\\\\Users\\\\agarw\\\\OneDrive\\\\Desktop\\\\ml ai\\\\JECRC'"
      ]
     },
     "execution_count": 25,
     "metadata": {},
     "output_type": "execute_result"
    }
   ],
   "source": [
    "pwd"
   ]
  },
  {
   "cell_type": "code",
   "execution_count": 18,
   "metadata": {},
   "outputs": [],
   "source": [
    "\n",
    "os.mkdir('image_folder')\n",
    "os.mkdir('text_folder')\n",
    "os.mkdir('pdf_folder')"
   ]
  },
  {
   "cell_type": "code",
   "execution_count": null,
   "metadata": {},
   "outputs": [
    {
     "data": {
      "text/plain": [
       "'C:\\\\Users\\\\agarw\\\\OneDrive\\\\Desktop\\\\ml ai\\\\JECRC'"
      ]
     },
     "execution_count": 7,
     "metadata": {},
     "output_type": "execute_result"
    }
   ],
   "source": [
    "pwd\n"
   ]
  },
  {
   "cell_type": "code",
   "execution_count": null,
   "metadata": {},
   "outputs": [
    {
     "data": {
      "text/plain": [
       "['image_folder',\n",
       " 'img1.jpg',\n",
       " 'img2.jpg',\n",
       " 'img3.jpg',\n",
       " 'img4.jpg',\n",
       " 'img5.jpg',\n",
       " 'img6.jpg',\n",
       " 'img7.jpg',\n",
       " 'pdf1.pdf',\n",
       " 'pdf2.pdf',\n",
       " 'pdf3.pdf',\n",
       " 'pdf4.pdf',\n",
       " 'pdf5.pdf',\n",
       " 'pdf6.pdf',\n",
       " 'pdf_folder',\n",
       " 'text1.txt',\n",
       " 'text2.txt',\n",
       " 'text3.txt',\n",
       " 'text4.txt',\n",
       " 'text5.txt',\n",
       " 'text6.txt',\n",
       " 'text7.txt',\n",
       " 'text8.txt',\n",
       " 'text9.txt',\n",
       " 'text_folder']"
      ]
     },
     "execution_count": 8,
     "metadata": {},
     "output_type": "execute_result"
    }
   ],
   "source": [
    "os.listdir()"
   ]
  },
  {
   "cell_type": "code",
   "execution_count": null,
   "metadata": {},
   "outputs": [
    {
     "name": "stdout",
     "output_type": "stream",
     "text": [
      "moved: C:\\Users\\agarw\\OneDrive\\Desktop\\ml ai\\JECRC\\image_folderimg1.jpg\n",
      "moved: C:\\Users\\agarw\\OneDrive\\Desktop\\ml ai\\JECRC\\image_folderimg2.jpg\n",
      "moved: C:\\Users\\agarw\\OneDrive\\Desktop\\ml ai\\JECRC\\image_folderimg3.jpg\n",
      "moved: C:\\Users\\agarw\\OneDrive\\Desktop\\ml ai\\JECRC\\image_folderimg4.jpg\n",
      "moved: C:\\Users\\agarw\\OneDrive\\Desktop\\ml ai\\JECRC\\image_folderimg5.jpg\n",
      "moved: C:\\Users\\agarw\\OneDrive\\Desktop\\ml ai\\JECRC\\image_folderimg6.jpg\n",
      "moved: C:\\Users\\agarw\\OneDrive\\Desktop\\ml ai\\JECRC\\image_folderimg7.jpg\n"
     ]
    }
   ],
   "source": [
    "\n",
    "\n",
    "import glob\n",
    "import os\n",
    "import shutil\n",
    "sou_folder = r\"C:\\Users\\agarw\\OneDrive\\Desktop\\ml ai\\JECRC\"\n",
    "des_folder = r'C:\\Users\\agarw\\OneDrive\\Desktop\\ml ai\\image_folder'\n",
    "pattern = '\\*.jpg'\n",
    "files = glob.glob(sou_folder + pattern)\n",
    "for file in files:\n",
    "    file_name = os.path.basename(file)\n",
    "    shutil.move(file,des_folder + file_name)\n",
    "    print('moved:',file)"
   ]
  },
  {
   "cell_type": "code",
   "execution_count": 15,
   "metadata": {},
   "outputs": [
    {
     "name": "stdout",
     "output_type": "stream",
     "text": [
      "moved: C:\\Users\\agarw\\OneDrive\\Desktop\\ml ai\\JECRC\\pdf1.pdf\n",
      "moved: C:\\Users\\agarw\\OneDrive\\Desktop\\ml ai\\JECRC\\pdf2.pdf\n",
      "moved: C:\\Users\\agarw\\OneDrive\\Desktop\\ml ai\\JECRC\\pdf3.pdf\n",
      "moved: C:\\Users\\agarw\\OneDrive\\Desktop\\ml ai\\JECRC\\pdf4.pdf\n",
      "moved: C:\\Users\\agarw\\OneDrive\\Desktop\\ml ai\\JECRC\\pdf5.pdf\n"
     ]
    }
   ],
   "source": [
    "import os\n",
    "import shutil\n",
    "import glob\n",
    "sou_folder = r\"C:\\Users\\agarw\\OneDrive\\Desktop\\ml ai\\JECRC\"\n",
    "des_folder = r'C:\\Users\\agarw\\OneDrive\\Desktop\\ml ai\\pdf_folder'\n",
    "pattern = '\\*.pdf'\n",
    "files = glob.glob(sou_folder + pattern)\n",
    "for file in files:\n",
    "    file_name = os.path.basename(file)\n",
    "    os.rename(file,des_folder + file_name)\n",
    "    print('moved:',file)"
   ]
  },
  {
   "cell_type": "code",
   "execution_count": null,
   "metadata": {},
   "outputs": [
    {
     "name": "stdout",
     "output_type": "stream",
     "text": [
      "moved: C:\\Users\\agarw\\OneDrive\\Desktop\\ml ai\\JECRC\\text1.txt\n",
      "moved: C:\\Users\\agarw\\OneDrive\\Desktop\\ml ai\\JECRC\\text2.txt\n",
      "moved: C:\\Users\\agarw\\OneDrive\\Desktop\\ml ai\\JECRC\\text3.txt\n",
      "moved: C:\\Users\\agarw\\OneDrive\\Desktop\\ml ai\\JECRC\\text4.txt\n",
      "moved: C:\\Users\\agarw\\OneDrive\\Desktop\\ml ai\\JECRC\\text5.txt\n",
      "moved: C:\\Users\\agarw\\OneDrive\\Desktop\\ml ai\\JECRC\\text6.txt\n",
      "moved: C:\\Users\\agarw\\OneDrive\\Desktop\\ml ai\\JECRC\\text7.txt\n",
      "moved: C:\\Users\\agarw\\OneDrive\\Desktop\\ml ai\\JECRC\\text8.txt\n",
      "moved: C:\\Users\\agarw\\OneDrive\\Desktop\\ml ai\\JECRC\\text9.txt\n"
     ]
    }
   ],
   "source": [
    "import os\n",
    "import shutil\n",
    "import glob\n",
    "sou_folder = r\"C:\\Users\\agarw\\OneDrive\\Desktop\\ml ai\\JECRC\"\n",
    "des_folder = r'C:\\Users\\agarw\\OneDrive\\Desktop\\ml ai\\text_folder'\n",
    "pattern = '\\*.txt'\n",
    "files = glob.glob(sou_folder + pattern)\n",
    "for file in files:\n",
    "    file_name = os.path.basename(file)\n",
    "    os.rename(file,des_folder + file_name)\n",
    "    print('moved:',file)"
   ]
  }
 ],
 "metadata": {
  "kernelspec": {
   "display_name": "Python 3",
   "language": "python",
   "name": "python3"
  },
  "language_info": {
   "codemirror_mode": {
    "name": "ipython",
    "version": 3
   },
   "file_extension": ".py",
   "mimetype": "text/x-python",
   "name": "python",
   "nbconvert_exporter": "python",
   "pygments_lexer": "ipython3",
   "version": "3.11.5"
  }
 },
 "nbformat": 4,
 "nbformat_minor": 2
}
